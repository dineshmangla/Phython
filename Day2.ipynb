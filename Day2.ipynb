{
 "cells": [
  {
   "cell_type": "code",
   "execution_count": null,
   "metadata": {
    "collapsed": true
   },
   "outputs": [],
   "source": [
    "#del list1[loc]-delete the element from that location\n",
    "#list1.pop()-remove the last element and return it on the screen\n",
    "#list1.pop(loc)-remove element from that loc and return on the screen\n",
    "#list1.remove(element)-removes the first occurance of that element\n",
    "\n",
    "list1=[10,20,'india','japan','china',100]\n",
    "list1.pop()\n",
    "list1\n",
    "list1.pop(2)\n",
    "list1\n",
    "del list1[2]\n",
    "list1\n",
    "list1.remove('china')\n",
    "list1"
   ]
  },
  {
   "cell_type": "code",
   "execution_count": null,
   "metadata": {
    "collapsed": true
   },
   "outputs": [],
   "source": [
    "#while loop\n",
    "count=1\n",
    "while(count<=10):\n",
    "    print(count)\n",
    "    if count==5:\n",
    "        break #break will terminate the loop\n",
    "    count+=1\n",
    "    print(\"bye\")"
   ]
  },
  {
   "cell_type": "code",
   "execution_count": null,
   "metadata": {
    "collapsed": true
   },
   "outputs": [],
   "source": [
    "#while loop\n",
    "count=1\n",
    "while(count<=10):\n",
    "    print(count)\n",
    "    if count==5:\n",
    "        count+=2\n",
    "        continue\n",
    "        print(\"hello\")\n",
    "    count+=1\n",
    "print(\"bye\")"
   ]
  },
  {
   "cell_type": "code",
   "execution_count": null,
   "metadata": {
    "collapsed": true
   },
   "outputs": [],
   "source": [
    "#print table of 3\n",
    "\n",
    "number=int(input(\"Please enter any number\"))\n",
    "count=1\n",
    "while(count<=10):\n",
    "     print(number, \"*\", count, \"=\", number * count)\n",
    "     count+=1"
   ]
  },
  {
   "cell_type": "code",
   "execution_count": null,
   "metadata": {
    "collapsed": true
   },
   "outputs": [],
   "source": [
    "#for loop\n",
    "name=['india','china',100,200]\n",
    "for x in name:\n",
    "     print(x)\n"
   ]
  },
  {
   "cell_type": "code",
   "execution_count": null,
   "metadata": {
    "collapsed": true
   },
   "outputs": [],
   "source": [
    "num=0\n",
    "list1=[]\n",
    "while(num != -999):\n",
    "    num=int(input(\"enter any number \"))\n",
    "    if num !=-999:\n",
    "        list1.append(num)\n",
    "    print(list1)\n",
    "    \n",
    "x=int(input(\"enter any number to search \"))\n",
    "if x in list1:\n",
    "    print(\"success\")\n",
    "else:\n",
    "    print(\"sorry number not exist in list\")\n",
    "even=[]\n",
    "odd=[]\n",
    "for value in list1:\n",
    "    if value % 2 ==0:\n",
    "        even.append(value)\n",
    "    else:\n",
    "        odd.append(value)\n",
    "print(\"even list is \", even)\n",
    "print(\"odd list is \", odd)"
   ]
  },
  {
   "cell_type": "code",
   "execution_count": null,
   "metadata": {
    "collapsed": true
   },
   "outputs": [],
   "source": [
    "d={}\n",
    "type(d)\n",
    "d={'name'}"
   ]
  },
  {
   "cell_type": "code",
   "execution_count": null,
   "metadata": {
    "collapsed": true
   },
   "outputs": [],
   "source": [
    "cost=int(input(\"enter the cost\"))\n",
    "selling_Price=int(input(\"enter the selling price\"))\n",
    "def fun(cost,selling_Price):\n",
    "     x=selling_Price - cost\n",
    "     return x\n",
    "y=fun(cost,selling_Price)\n",
    "if y > 0:\n",
    " print(\"profit\" , y)\n",
    "elif y  < 0 :\n",
    "  print(\"Loss\",y)\n",
    "else:\n",
    " print(\"not profit n loss\")\n",
    " \n"
   ]
  },
  {
   "cell_type": "code",
   "execution_count": null,
   "metadata": {
    "collapsed": true
   },
   "outputs": [],
   "source": [
    "def make():\n",
    "dicEmp={}\n",
    "num=int(input(\"how many employe record you want\"))\n",
    "while(num>0):\n",
    "    empid=int(input(\"enter the emp id: \"))\n",
    "    empname=int(input(\"enter the emp Name: \"))\n",
    "    d[empid]=empname\n",
    "    num-=1\n",
    "return d\n",
    "\n",
    "def search(d):\n",
    "    x=int(input(\"Enter the employe id you want to search\"))\n",
    "    if x in d.keys():\n",
    "        return \"success\"\n",
    "    else:\n",
    "        return \"Failure\"\n",
    "d=make()\n",
    "ans=search(d)\n",
    "print(ans)"
   ]
  },
  {
   "cell_type": "code",
   "execution_count": 1,
   "metadata": {},
   "outputs": [
    {
     "data": {
      "text/plain": [
       "314.1592653589793"
      ]
     },
     "execution_count": 1,
     "metadata": {},
     "output_type": "execute_result"
    }
   ],
   "source": [
    "import math\n",
    "area=lambda r=10:math.pi*r**2\n",
    "area()"
   ]
  },
  {
   "cell_type": "code",
   "execution_count": 3,
   "metadata": {},
   "outputs": [
    {
     "name": "stdout",
     "output_type": "stream",
     "text": [
      "15\n"
     ]
    }
   ],
   "source": [
    "from functools import reduce\n",
    "list1=[2,5,9,7,2,3,6]\n",
    "ans=reduce(lambda x,y:x+y, list1[1::2])\n",
    "print(ans)"
   ]
  },
  {
   "cell_type": "code",
   "execution_count": null,
   "metadata": {
    "collapsed": true
   },
   "outputs": [],
   "source": [
    "def fun(name):\n",
    "    count=0\n",
    "    for value in name:\n",
    "        if value.upper() in ['A',]"
   ]
  }
 ],
 "metadata": {
  "kernelspec": {
   "display_name": "Python 3",
   "language": "python",
   "name": "python3"
  },
  "language_info": {
   "codemirror_mode": {
    "name": "ipython",
    "version": 3
   },
   "file_extension": ".py",
   "mimetype": "text/x-python",
   "name": "python",
   "nbconvert_exporter": "python",
   "pygments_lexer": "ipython3",
   "version": "3.6.1"
  }
 },
 "nbformat": 4,
 "nbformat_minor": 2
}
