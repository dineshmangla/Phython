{
 "cells": [
  {
   "cell_type": "code",
   "execution_count": 3,
   "metadata": {},
   "outputs": [
    {
     "name": "stdout",
     "output_type": "stream",
     "text": [
      "shape of data is (178, 14)\n",
      "column of dataset is  Index(['Alcohol', 'Malic acid', 'Ash', 'Alcalinity', 'Magnesium', 'phenols',\n",
      "       'Flavanoids', 'Nonflavanoid_phenols', 'Proanthocyanins',\n",
      "       'Color_intensity', 'Hue', 'OD280', 'Proline',\n",
      "       'customer_segment       '],\n",
      "      dtype='object')\n",
      "data types of columns is  Alcohol                    float64\n",
      "Malic acid                 float64\n",
      "Ash                        float64\n",
      "Alcalinity                 float64\n",
      "Magnesium                    int64\n",
      "phenols                    float64\n",
      "Flavanoids                 float64\n",
      "Nonflavanoid_phenols       float64\n",
      "Proanthocyanins            float64\n",
      "Color_intensity            float64\n",
      "Hue                        float64\n",
      "OD280                      float64\n",
      "Proline                      int64\n",
      "customer_segment             int64\n",
      "dtype: object\n"
     ]
    }
   ],
   "source": [
    "\n",
    "import numpy as np\n",
    "import pandas as pd\n",
    "import matplotlib.pyplot as plt\n",
    "import seaborn as sns\n",
    "from sklearn.tree import DecisionTreeClassifier\n",
    "from sklearn.model_selection import train_test_split\n",
    "from sklearn.metrics import accuracy_score\n",
    "data=pd.read_csv(\"C:\\\\Users\\\\dinesh135732\\\\Desktop\\\\wine.csv\")\n",
    "\n",
    "print(\"shape of data is\" ,data.shape)\n",
    "print(\"column of dataset is \",data.columns)\n",
    "print(\"data types of columns is \",data.dtypes)"
   ]
  },
  {
   "cell_type": "code",
   "execution_count": null,
   "metadata": {
    "collapsed": true
   },
   "outputs": [],
   "source": [
    "df=pd.DataFrame(data)\n",
    "df.rename(columns={\"customer_segment       \":\"customer_segment\"},inplace=True)\n",
    "DataList=list(df.columns[0:13])\n",
    "print(\"list of  column is \",DataList)"
   ]
  },
  {
   "cell_type": "code",
   "execution_count": null,
   "metadata": {
    "collapsed": true
   },
   "outputs": [],
   "source": [
    "sns.countplot(df['customer_segment'],label='count')\n",
    "plt.show()"
   ]
  },
  {
   "cell_type": "code",
   "execution_count": null,
   "metadata": {
    "collapsed": true
   },
   "outputs": [],
   "source": [
    "corr=data[DataList].corr()\n",
    "print(corr)"
   ]
  },
  {
   "cell_type": "code",
   "execution_count": null,
   "metadata": {
    "collapsed": true
   },
   "outputs": [],
   "source": [
    "sns.heatmap(corr,cbar=True , square=True ,cmap='coolwarm')\n",
    "plt.show()"
   ]
  },
  {
   "cell_type": "code",
   "execution_count": null,
   "metadata": {
    "collapsed": true
   },
   "outputs": [],
   "source": [
    "prediction_var =DataList\n",
    "print(prediction_var)"
   ]
  },
  {
   "cell_type": "code",
   "execution_count": null,
   "metadata": {
    "collapsed": true
   },
   "outputs": [],
   "source": [
    "train,test=train_test_split(df, test_size=0.3, random_state=5)\n",
    "print(\"shape of training dataset is \", train.shape)\n",
    "print(\"shape of test dataset is \", test.shape)"
   ]
  },
  {
   "cell_type": "code",
   "execution_count": null,
   "metadata": {
    "collapsed": true
   },
   "outputs": [],
   "source": [
    "train_x=train[prediction_var]\n",
    "test_x=test[prediction_var]\n",
    "\n",
    "train_y=train.customer_segment\n",
    "test_y=test.customer_segment\n",
    "\n",
    "print(\"train_x shape is \",train_x.shape)\n",
    "print(\"test_x shape is \",test_x.shape)\n",
    "print(\"train_y shape is \",train_y.shape)\n",
    "print(\"test_y shape is \",test_y.shape)"
   ]
  },
  {
   "cell_type": "code",
   "execution_count": null,
   "metadata": {
    "collapsed": true
   },
   "outputs": [],
   "source": [
    "model=DecisionTreeClassifier()\n",
    "model.fit(train_x,train_y)\n",
    "pv=model.predict(test_x)\n",
    "accuracy=accuracy_score(pv,test_y)\n",
    "print(\"accuracy of the model is \",accuracy*100)"
   ]
  },
  {
   "cell_type": "code",
   "execution_count": 8,
   "metadata": {},
   "outputs": [
    {
     "name": "stdout",
     "output_type": "stream",
     "text": [
      "[127 100 101 113 118 112  96 121  97  98 105  95  89  91 102 112 120 115\n",
      " 108 116 126 102 101  95  96 124  93  94 107  96 101 106 104 132 110 100\n",
      " 110  98  98 128 117  90 101 103 107 111 102 101 103 108  92  94 111 115\n",
      " 118 116 118 102 108  88 101 100  94  87 104  98  78  78 110 151 103  86\n",
      "  87 139 101  97  86 112 136 101  86  86  78  85  94  99  90  88  84  70\n",
      "  81  86  80  88  98 162 134  85  88  88  97  88  98  86  85  90  80  84\n",
      "  92  94 107  88 103  88  84  85  86 108  80  87  96 119 102  86  82  85\n",
      "  86  92  88  80 122 104  98 106  85  94  89  96  88 101  96  89  97  92\n",
      " 112 102  80  86  92 113 123 112 116  98 103  93  89  97  98  89  88 107\n",
      " 106 106  90  88 111  88 105 112  96  86  91  95 102 120 120  96]\n"
     ]
    }
   ],
   "source": [
    "import numpy as np\n",
    "import pandas as pd\n",
    "import matplotlib.pyplot as plt\n",
    "import seaborn as sns\n",
    "from sklearn.tree import DecisionTreeClassifier\n",
    "from sklearn.model_selection import train_test_split\n",
    "from sklearn.metrics import accuracy_score\n",
    "data=pd.read_csv(\"C:\\\\Users\\\\dinesh135732\\\\Desktop\\\\wine.csv\")\n",
    "print(data['Magnesium'].values)"
   ]
  },
  {
   "cell_type": "code",
   "execution_count": null,
   "metadata": {
    "collapsed": true
   },
   "outputs": [],
   "source": []
  }
 ],
 "metadata": {
  "kernelspec": {
   "display_name": "Python 3",
   "language": "python",
   "name": "python3"
  },
  "language_info": {
   "codemirror_mode": {
    "name": "ipython",
    "version": 3
   },
   "file_extension": ".py",
   "mimetype": "text/x-python",
   "name": "python",
   "nbconvert_exporter": "python",
   "pygments_lexer": "ipython3",
   "version": "3.6.1"
  }
 },
 "nbformat": 4,
 "nbformat_minor": 2
}
