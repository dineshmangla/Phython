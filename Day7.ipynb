{
 "cells": [
  {
   "cell_type": "code",
   "execution_count": null,
   "metadata": {
    "collapsed": true
   },
   "outputs": [],
   "source": [
    "from sklearn import metrics\n",
    "mse=metrics.mean_squared_error(actual_value,predicted values)\n",
    "import numpy\n",
    "mse=numpy.mean((actual_value-predicted_value)**2)"
   ]
  },
  {
   "cell_type": "code",
   "execution_count": 12,
   "metadata": {},
   "outputs": [
    {
     "name": "stdout",
     "output_type": "stream",
     "text": [
      "shape of independent vars in dataset is  (506, 13)\n",
      "columns names are  ['CRIM' 'ZN' 'INDUS' 'CHAS' 'NOX' 'RM' 'AGE' 'DIS' 'RAD' 'TAX' 'PTRATIO'\n",
      " 'B' 'LSTAT']\n",
      "max price of the house is  50.0\n",
      "min price of the house is  5.0\n",
      "mean price of the house is  22.5328063241\n",
      "      CRIM    ZN  INDUS  CHAS    NOX     RM   AGE     DIS  RAD    TAX  \\\n",
      "0  0.00632  18.0   2.31   0.0  0.538  6.575  65.2  4.0900  1.0  296.0   \n",
      "1  0.02731   0.0   7.07   0.0  0.469  6.421  78.9  4.9671  2.0  242.0   \n",
      "2  0.02729   0.0   7.07   0.0  0.469  7.185  61.1  4.9671  2.0  242.0   \n",
      "3  0.03237   0.0   2.18   0.0  0.458  6.998  45.8  6.0622  3.0  222.0   \n",
      "4  0.06905   0.0   2.18   0.0  0.458  7.147  54.2  6.0622  3.0  222.0   \n",
      "\n",
      "   PTRATIO       B  LSTAT  \n",
      "0     15.3  396.90   4.98  \n",
      "1     17.8  396.90   9.14  \n",
      "2     17.8  392.83   4.03  \n",
      "3     18.7  394.63   2.94  \n",
      "4     18.7  396.90   5.33  \n",
      "      CRIM    ZN  INDUS  CHAS    NOX     RM   AGE     DIS  RAD    TAX  \\\n",
      "0  0.00632  18.0   2.31   0.0  0.538  6.575  65.2  4.0900  1.0  296.0   \n",
      "1  0.02731   0.0   7.07   0.0  0.469  6.421  78.9  4.9671  2.0  242.0   \n",
      "2  0.02729   0.0   7.07   0.0  0.469  7.185  61.1  4.9671  2.0  242.0   \n",
      "3  0.03237   0.0   2.18   0.0  0.458  6.998  45.8  6.0622  3.0  222.0   \n",
      "4  0.06905   0.0   2.18   0.0  0.458  7.147  54.2  6.0622  3.0  222.0   \n",
      "\n",
      "   PTRATIO       B  LSTAT  price  \n",
      "0     15.3  396.90   4.98   24.0  \n",
      "1     17.8  396.90   9.14   21.6  \n",
      "2     17.8  392.83   4.03   34.7  \n",
      "3     18.7  394.63   2.94   33.4  \n",
      "4     18.7  396.90   5.33   36.2  \n",
      "intercept is  36.4911032804\n",
      "number of shapes are  13\n",
      "shapes are  [ -1.07170557e-01   4.63952195e-02   2.08602395e-02   2.68856140e+00\n",
      "  -1.77957587e+01   3.80475246e+00   7.51061703e-04  -1.47575880e+00\n",
      "   3.05655038e-01  -1.23293463e-02  -9.53463555e-01   9.39251272e-03\n",
      "  -5.25466633e-01]\n"
     ]
    },
    {
     "data": {
      "image/png": "[encoded data removed]",
      "text/plain": [
       "<matplotlib.figure.Figure at 0xa92e970>"
      ]
     },
     "metadata": {},
     "output_type": "display_data"
    },
    {
     "name": "stdout",
     "output_type": "stream",
     "text": [
      "x_train shape is  (354, 13)\n",
      "y_train shape is (354,)\n",
      "x_test shape is  (152, 13)\n",
      "y_test shape is  (152,)\n",
      "MSE of model is  22.4397954251\n",
      "MSE of model is  22.4397954251\n"
     ]
    }
   ],
   "source": [
    "from sklearn import datasets\n",
    "import numpy as np\n",
    "import pandas as pd\n",
    "from sklearn.linear_model import LinearRegression\n",
    "from sklearn.datasets import load_boston\n",
    "import matplotlib.pyplot as plt\n",
    "from sklearn.model_selection import train_test_split\n",
    "from sklearn import metrics\n",
    "\n",
    "boston=load_boston()\n",
    "print(\"shape of independent vars in dataset is \",boston.data.shape)\n",
    "print(\"columns names are \",boston.feature_names)\n",
    "print(\"max price of the house is \",np.max(boston.target))\n",
    "print(\"min price of the house is \",np.min(boston.target))\n",
    "print(\"mean price of the house is \",np.mean(boston.target))\n",
    "\n",
    "bos=pd.DataFrame(boston.data)\n",
    "bos.columns=boston.feature_names\n",
    "print(bos.head())\n",
    "\n",
    "bos['price']=boston.target\n",
    "print(bos.head())\n",
    "\n",
    "x=bos.drop('price',axis=1)\n",
    "model=LinearRegression()\n",
    "model.fit(x,bos.price)\n",
    "print(\"intercept is \",model.intercept_)\n",
    "print(\"number of shapes are \",len(model.coef_))\n",
    "print(\"shapes are \",model.coef_)\n",
    "\n",
    "plt.scatter(bos.RM,bos.price)\n",
    "plt.xlabel(\"number of rooms per dwelling\")\n",
    "plt.ylabel(\"price of the house\")\n",
    "plt.title(\"relation between number of rooms per dwelling and price of house\")\n",
    "plt.show()\n",
    "\n",
    "x_train,x_test,y_train,y_test=train_test_split(boston.data,boston.target,test_size=0.3,random_state=3)\n",
    "print(\"x_train shape is \",x_train.shape)\n",
    "print(\"y_train shape is\",y_train.shape)\n",
    "print(\"x_test shape is \",x_test.shape)\n",
    "print(\"y_test shape is \",y_test.shape)\n",
    "\n",
    "model=LinearRegression()\n",
    "model.fit(x_train,y_train)\n",
    "pv=model.predict(x_test)\n",
    "print(\"MSE of model is \",metrics.mean_squared_error(pv,y_test))\n",
    "print(\"MSE of model is \",np.mean((pv -y_test)**2))"
   ]
  },
  {
   "cell_type": "code",
   "execution_count": null,
   "metadata": {
    "collapsed": true
   },
   "outputs": [],
   "source": []
  }
 ],
 "metadata": {
  "kernelspec": {
   "display_name": "Python 3",
   "language": "python",
   "name": "python3"
  },
  "language_info": {
   "codemirror_mode": {
    "name": "ipython",
    "version": 3
   },
   "file_extension": ".py",
   "mimetype": "text/x-python",
   "name": "python",
   "nbconvert_exporter": "python",
   "pygments_lexer": "ipython3",
   "version": "3.6.1"
  }
 },
 "nbformat": 4,
 "nbformat_minor": 2
}
