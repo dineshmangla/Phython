{
 "cells": [
  {
   "cell_type": "code",
   "execution_count": 3,
   "metadata": {},
   "outputs": [
    {
     "name": "stdout",
     "output_type": "stream",
     "text": [
      "I am constructor and autoexecutable\n"
     ]
    }
   ],
   "source": [
    "class car():\n",
    "    def __init__(self):\n",
    "        print(\"I am constructor and autoexecutable\")\n",
    "    def color(self,color):\n",
    "        print(\"i have \",color,\"color\")\n",
    "    def tyres(self,color):\n",
    "        print(\"i have \",color,\"color\")\n",
    "sedan=car()"
   ]
  },
  {
   "cell_type": "code",
   "execution_count": 11,
   "metadata": {},
   "outputs": [
    {
     "name": "stdout",
     "output_type": "stream",
     "text": [
      "enter the lenght12\n",
      "enter the breadth12\n",
      "Area is  144\n",
      "Parameter is   48\n"
     ]
    }
   ],
   "source": [
    "length=int(input(\"enter the lenght\"))\n",
    "breadth=int(input(\"enter the breadth\"))\n",
    "class Recangle():\n",
    "    def __init__(self,length,breadth):\n",
    "        self.len=length\n",
    "        self.bred=breadth\n",
    "    def Area(self):\n",
    "        print(\"Area is \",self.len*self.bred)\n",
    "    def Paramet(self):\n",
    "        print(\"Parameter is  \" ,2*(self.len+self.bred))\n",
    "\n",
    "obj=Recangle(length,breadth)\n",
    "obj.Area()\n",
    "obj.Paramet()"
   ]
  },
  {
   "cell_type": "code",
   "execution_count": 23,
   "metadata": {},
   "outputs": [
    {
     "name": "stdout",
     "output_type": "stream",
     "text": [
      "enter the name of the EmployeDinesh Mangla\n",
      "total number of capital letters are  2\n",
      "Name is not palidrome\n",
      "First name is  Dinesh  and Last name is Mangla\n"
     ]
    }
   ],
   "source": [
    "class Employe():\n",
    "    def __init__(self):\n",
    "        self.empname=input(\"enter the name of the Employe\")\n",
    "        \n",
    "    def CapitalName(self):\n",
    "        x=0\n",
    "        for value in self.empname:\n",
    "            if ord(value)>=65 and ord(value)<=90:\n",
    "                x=x+1\n",
    "        print(\"total number of capital letters are \",x)\n",
    "                \n",
    "    def Palidrome(self):\n",
    "        if self.empname==self.empname[::-1]:\n",
    "            print(\"Name is palidrome\")\n",
    "        else:\n",
    "            print(\"Name is not palidrome\")\n",
    "            \n",
    "    def SplitName(self):\n",
    "        list1=self.empname.split(' ')\n",
    "        fname=list1[0]\n",
    "        lname=list1[1]\n",
    "        print(\"First name is \",fname, \" and Last name is\",lname)\n",
    "        \n",
    "obj=Employe()\n",
    "obj.CapitalName()\n",
    "obj.Palidrome()\n",
    "obj.SplitName()"
   ]
  },
  {
   "cell_type": "code",
   "execution_count": 25,
   "metadata": {},
   "outputs": [
    {
     "name": "stdout",
     "output_type": "stream",
     "text": [
      "fun and public method \n",
      "fun1 and Protected method \n",
      "fun2 and Private method \n"
     ]
    }
   ],
   "source": [
    "class A(): \n",
    "    def fun(self):\n",
    "        print(\"fun and public method \")\n",
    "    def _fun1(self):\n",
    "        print(\"fun1 and Protected method \")\n",
    "    def __fun2(self):\n",
    "        print(\"fun2 and Private method \")\n",
    "obj=A()\n",
    "obj.fun()\n",
    "obj._fun1()\n",
    "obj._A__fun2()"
   ]
  },
  {
   "cell_type": "code",
   "execution_count": 8,
   "metadata": {},
   "outputs": [
    {
     "name": "stdout",
     "output_type": "stream",
     "text": [
      "enter the coursenamesfdsf\n",
      "fun1 and Protected method \n",
      "fun2 and Private method \n"
     ]
    }
   ],
   "source": [
    "class A(): \n",
    "    def __init__(self):\n",
    "        self.__cname=input(\"enter the coursename\")\n",
    "        \n",
    "    def _fun1(self):\n",
    "        print(\"fun1 and Protected method \")\n",
    "        \n",
    "    def __fun2(self):\n",
    "        print(\"fun2 and Private method \")\n",
    "obj=A()\n",
    "obj._fun1()\n",
    "obj._A__fun2()"
   ]
  },
  {
   "cell_type": "code",
   "execution_count": 1,
   "metadata": {},
   "outputs": [
    {
     "name": "stdout",
     "output_type": "stream",
     "text": [
      "Hello World \n"
     ]
    }
   ],
   "source": [
    "import sys\n",
    "sys.path.append('C:\\\\Users\\\\dinesh135732\\\\Desktop')\n",
    "from hello import A\n",
    "obj=A()\n",
    "obj.world()\n"
   ]
  },
  {
   "cell_type": "code",
   "execution_count": 9,
   "metadata": {},
   "outputs": [
    {
     "name": "stdout",
     "output_type": "stream",
     "text": [
      "i am base classs constructor\n",
      "i am in derived and fun function\n"
     ]
    }
   ],
   "source": [
    "class base():\n",
    "    def __init__(self):\n",
    "        print(\"i am base classs constructor\")\n",
    "    def fun(self):\n",
    "        print(\"i am in base class and in fun\")\n",
    "class derived(base):\n",
    "    def fun(self) :\n",
    "        print(\"i am in derived and fun function\")\n",
    "obj=derived()\n",
    "obj.fun()"
   ]
  },
  {
   "cell_type": "code",
   "execution_count": 10,
   "metadata": {},
   "outputs": [
    {
     "name": "stdout",
     "output_type": "stream",
     "text": [
      "i am base classs constructor\n",
      "i am in base class and in fun\n"
     ]
    }
   ],
   "source": [
    "class A():\n",
    "    def __init__(self):\n",
    "        print(\"i am base classs constructor\")\n",
    "    def fun(self):\n",
    "        print(\"i am in base class and in fun\")\n",
    "class B():\n",
    "    def __init__(self):\n",
    "        print(\"i am base classs constructor\")\n",
    "        \n",
    "    def fun(self) :\n",
    "        print(\"i am in derived and fun function\")\n",
    "class C(A,B):\n",
    "    pass\n",
    "\n",
    "obj=C()\n",
    "obj.fun()"
   ]
  },
  {
   "cell_type": "code",
   "execution_count": 5,
   "metadata": {},
   "outputs": [
    {
     "name": "stdout",
     "output_type": "stream",
     "text": [
      "enter the salary92000\n",
      "Salary is = 64399.99999999999\n"
     ]
    }
   ],
   "source": [
    "class base():\n",
    "    def __init__(self):\n",
    "        self.salary=int(input(\"enter the salary\"))\n",
    "                        \n",
    "class derived(base):\n",
    "    def fun(self):\n",
    "        print(\"Salary is =\",self.salary*0.7)\n",
    "                        \n",
    "obj=derived()\n",
    "obj.fun()                 "
   ]
  },
  {
   "cell_type": "code",
   "execution_count": 8,
   "metadata": {},
   "outputs": [
    {
     "name": "stdout",
     "output_type": "stream",
     "text": [
      "<__main__.billing object at 0x05ED44F0>\n"
     ]
    },
    {
     "data": {
      "text/plain": [
       "30"
      ]
     },
     "execution_count": 8,
     "metadata": {},
     "output_type": "execute_result"
    }
   ],
   "source": [
    "class billing():\n",
    "    def calculate(self,x,y):\n",
    "        return x*y\n",
    "obj=billing()\n",
    "obj.calculate(10,20)\n",
    "print(obj)\n",
    "\n",
    "def fun(self,x,y):\n",
    "    return x+y\n",
    "\n",
    "billing.calculate=fun\n",
    "obj.calculate(10,20)"
   ]
  },
  {
   "cell_type": "code",
   "execution_count": 10,
   "metadata": {},
   "outputs": [
    {
     "ename": "TypeError",
     "evalue": "walk() missing 1 required positional argument: 'top'",
     "output_type": "error",
     "traceback": [
      "\u001b[1;31m---------------------------------------------------------------------------\u001b[0m",
      "\u001b[1;31mTypeError\u001b[0m                                 Traceback (most recent call last)",
      "\u001b[1;32m<ipython-input-10-526520ea619f>\u001b[0m in \u001b[0;36m<module>\u001b[1;34m()\u001b[0m\n\u001b[0;32m      1\u001b[0m \u001b[1;32mimport\u001b[0m \u001b[0mos\u001b[0m\u001b[1;33m\u001b[0m\u001b[0m\n\u001b[1;32m----> 2\u001b[1;33m \u001b[0mos\u001b[0m\u001b[1;33m.\u001b[0m\u001b[0mwalk\u001b[0m\u001b[1;33m(\u001b[0m\u001b[1;33m)\u001b[0m\u001b[1;33m\u001b[0m\u001b[0m\n\u001b[0m",
      "\u001b[1;31mTypeError\u001b[0m: walk() missing 1 required positional argument: 'top'"
     ]
    }
   ],
   "source": [
    "import os\n",
    "os.walk()"
   ]
  },
  {
   "cell_type": "code",
   "execution_count": null,
   "metadata": {
    "collapsed": true
   },
   "outputs": [],
   "source": []
  }
 ],
 "metadata": {
  "kernelspec": {
   "display_name": "Python 3",
   "language": "python",
   "name": "python3"
  },
  "language_info": {
   "codemirror_mode": {
    "name": "ipython",
    "version": 3
   },
   "file_extension": ".py",
   "mimetype": "text/x-python",
   "name": "python",
   "nbconvert_exporter": "python",
   "pygments_lexer": "ipython3",
   "version": "3.6.1"
  }
 },
 "nbformat": 4,
 "nbformat_minor": 2
}
