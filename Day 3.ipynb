{
 "cells": [
  {
   "cell_type": "code",
   "execution_count": null,
   "metadata": {},
   "outputs": [],
   "source": [
    "#Exceptional handling\n",
    "try: #-we write anything in suspition that it might fail\n",
    "    num1=int(input(\"enter the first number\"))\n",
    "    num2=int(input(\"enter the secinf number\"))\n",
    "    ans=num1/num2\n",
    "except: \n",
    "    print(\"sorry u can not divide a number\")\n",
    "else:\n",
    "     print(\"ans is \",ans)\n",
    "finally:\n",
    "    print(\"bye\")\n"
   ]
  },
  {
   "cell_type": "code",
   "execution_count": null,
   "metadata": {},
   "outputs": [],
   "source": [
    "empid=0\n",
    "dist={}\n",
    "while empid!=-999:\n",
    "    empid=int(input(\"enter the empid please\"))\n",
    "    if empid!=-999:\n",
    "         name=input(\"enter the name please\")\n",
    "         dist[empid]=name   \n",
    "print(dist)\n",
    "try:\n",
    "    x=int(input(\"please enter the emp id to be search \"))\n",
    "    print(\"name of the employee is \", dist[x])\n",
    "except:\n",
    "    print(\"sry emp not found \")"
   ]
  },
  {
   "cell_type": "code",
   "execution_count": null,
   "metadata": {},
   "outputs": [],
   "source": [
    "import sys\n",
    "try: #-we write anything in suspition that it might fail\n",
    "    num1=int(input(\"enter the first number\"))\n",
    "    num2=int(input(\"enter the secinf number\"))\n",
    "    ans=num1/num2\n",
    "assert: num1>num2,\"num1 can not be grater then num2\"\n",
    "except: \n",
    "     print(\"exception name is = \", sys.exc_info()[0])\n",
    "     print(\"description of exception is \", sys.exc_info()[1])\n",
    "else:\n",
    "    print(\"ans is \",ans)\n",
    "finally:\n",
    "    print(\"bye\")\n",
    "    "
   ]
  },
  {
   "cell_type": "code",
   "execution_count": null,
   "metadata": {},
   "outputs": [],
   "source": [
    "import sys\n",
    "try:\n",
    "    num=input(\"please Enter 16 digit credit card number\")\n",
    "    assert len(num)==16,\"its not a 16 digit card no\" \n",
    "    assert num[0]!=0, \"cc is not correct,start with 0\"\n",
    "    cc=int(num)\n",
    "except:\n",
    "    print(sys.exc_info()[1])\n",
    "else:\n",
    "    print(\"it's a valid card number \")\n"
   ]
  },
  {
   "cell_type": "code",
   "execution_count": null,
   "metadata": {},
   "outputs": [],
   "source": [
    "import sys\n",
    "try: \n",
    "    flag=0\n",
    "    name=input(\"please enter the name \")\n",
    "    num=len(name[0::2])\n",
    "    for value in name[0::2]:\n",
    "        if value.upper()=='A':\n",
    "            flag+=1\n",
    "    assert flag==num,\"sorry we can not offer discount\"\n",
    "    \n",
    "except:\n",
    "    print(\"Error =\" ,sys.exc_info()[1])\n",
    "else:\n",
    "    print(\"you are elegible for 10 percent discount\")"
   ]
  },
  {
   "cell_type": "code",
   "execution_count": null,
   "metadata": {},
   "outputs": [],
   "source": [
    "import re\n",
    "with open('c:\\\\data.txt','r') as fp:\n",
    "    match_all =re.findall(r'[\\w\\.-]+@gmail.com',fp.read())\n",
    "    print(match_all)"
   ]
  },
  {
   "cell_type": "code",
   "execution_count": 10,
   "metadata": {},
   "outputs": [
    {
     "name": "stdout",
     "output_type": "stream",
     "text": [
      "10\n",
      "20\n",
      "30\n",
      "20\n"
     ]
    }
   ],
   "source": [
    "import re\n",
    "with open('C:\\\\Users\\\\dinesh135732\\\\Desktop\\\\data.txt','r') as fp:\n",
    "    for i in fp:\n",
    "        data =re.search(r'(\\w+)(\\s)(\\d+)(\\s)(\\d+)',i)\n",
    "        cp=int(data.group(3))\n",
    "        sp=int(data.group(5))\n",
    "        print(cp)\n",
    "        print(sp)"
   ]
  },
  {
   "cell_type": "code",
   "execution_count": null,
   "metadata": {
    "collapsed": true
   },
   "outputs": [],
   "source": []
  }
 ],
 "metadata": {
  "kernelspec": {
   "display_name": "Python 3",
   "language": "python",
   "name": "python3"
  },
  "language_info": {
   "codemirror_mode": {
    "name": "ipython",
    "version": 3
   },
   "file_extension": ".py",
   "mimetype": "text/x-python",
   "name": "python",
   "nbconvert_exporter": "python",
   "pygments_lexer": "ipython3",
   "version": "3.6.1"
  }
 },
 "nbformat": 4,
 "nbformat_minor": 2
}
