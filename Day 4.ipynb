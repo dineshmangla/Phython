{
 "cells": [
  {
   "cell_type": "code",
   "execution_count": null,
   "metadata": {},
   "outputs": [],
   "source": [
    "import pandas\n",
    "df=pandas.read_csv(r'C:\\Users\\dinesh135732\\Desktop\\dataframe.csv')\n",
    "df['Percentage']=(df.Maths+df.Science+df.English)/3\n",
    "df1=df[(df.Section==1)]\n",
    "df1\n",
    "#df2=df[(df.Section==2)]\n",
    "#df1.sort_values(by='Maths',ascending=False).head(1).Name\n",
    "#df1[(df1.Maths ==max(df1.Maths))].Name\n",
    "df3=df[['Maths','Science','English']]\n",
    "df3.corr()\n",
    "\n",
    "import seaborn as sns\n",
    "import matplotlib.pyplot as plt\n",
    "sns.heatmap(df.corr())\n",
    "plt.show()"
   ]
  },
  {
   "cell_type": "code",
   "execution_count": 14,
   "metadata": {},
   "outputs": [
    {
     "name": "stdout",
     "output_type": "stream",
     "text": [
      "Suman\n",
      "Kiran\n",
      "John\n",
      "Chirag\n"
     ]
    }
   ],
   "source": [
    "import pandas\n",
    "df=pandas.read_csv(r'C:\\Users\\dinesh135732\\Desktop\\datafile.csv')\n",
    "df['Salary']=df['Salary'].replace('[\\$,]','',regex=True).astype(float)\n",
    "df['Net_Salary']=df['Salary']*0.7\n",
    "df=df.dropna()\n",
    "df[df.Name.str[0] =='S']\n",
    "df['Int_Sal'] =pandas.to_numeric(df['Salary'],downcast='integer',errors='ignore')\n",
    "for row in df.itertuples():\n",
    "    if row[2]>300000.0:\n",
    "        print(row[1])\n",
    "        "
   ]
  },
  {
   "cell_type": "code",
   "execution_count": 23,
   "metadata": {},
   "outputs": [
    {
     "data": {
      "text/html": [
       "<div>\n",
       "<style>\n",
       "    .dataframe thead tr:only-child th {\n",
       "        text-align: right;\n",
       "    }\n",
       "\n",
       "    .dataframe thead th {\n",
       "        text-align: left;\n",
       "    }\n",
       "\n",
       "    .dataframe tbody tr th {\n",
       "        vertical-align: top;\n",
       "    }\n",
       "</style>\n",
       "<table border=\"1\" class=\"dataframe\">\n",
       "  <thead>\n",
       "    <tr style=\"text-align: right;\">\n",
       "      <th></th>\n",
       "      <th>Country</th>\n",
       "      <th>score</th>\n",
       "    </tr>\n",
       "  </thead>\n",
       "  <tbody>\n",
       "    <tr>\n",
       "      <th>0</th>\n",
       "      <td>India</td>\n",
       "      <td>100</td>\n",
       "    </tr>\n",
       "    <tr>\n",
       "      <th>2</th>\n",
       "      <td>India</td>\n",
       "      <td>44</td>\n",
       "    </tr>\n",
       "    <tr>\n",
       "      <th>4</th>\n",
       "      <td>India</td>\n",
       "      <td>90</td>\n",
       "    </tr>\n",
       "  </tbody>\n",
       "</table>\n",
       "</div>"
      ],
      "text/plain": [
       "  Country  score\n",
       "0   India    100\n",
       "2   India     44\n",
       "4   India     90"
      ]
     },
     "execution_count": 23,
     "metadata": {},
     "output_type": "execute_result"
    }
   ],
   "source": [
    "import pandas\n",
    "d={'Country':['India','USA','India','USA','India'],\n",
    "  'score':[100,22,44,21,90]}\n",
    "df=pandas.DataFrame(d)\n",
    "g=df.groupby('Country')\n",
    "g.get_group('India')\n"
   ]
  },
  {
   "cell_type": "code",
   "execution_count": 28,
   "metadata": {},
   "outputs": [
    {
     "data": {
      "text/html": [
       "<div>\n",
       "<style>\n",
       "    .dataframe thead tr:only-child th {\n",
       "        text-align: right;\n",
       "    }\n",
       "\n",
       "    .dataframe thead th {\n",
       "        text-align: left;\n",
       "    }\n",
       "\n",
       "    .dataframe tbody tr th {\n",
       "        vertical-align: top;\n",
       "    }\n",
       "</style>\n",
       "<table border=\"1\" class=\"dataframe\">\n",
       "  <thead>\n",
       "    <tr style=\"text-align: right;\">\n",
       "      <th></th>\n",
       "      <th>score</th>\n",
       "    </tr>\n",
       "  </thead>\n",
       "  <tbody>\n",
       "    <tr>\n",
       "      <th>0</th>\n",
       "      <td>100</td>\n",
       "    </tr>\n",
       "    <tr>\n",
       "      <th>1</th>\n",
       "      <td>22</td>\n",
       "    </tr>\n",
       "    <tr>\n",
       "      <th>2</th>\n",
       "      <td>44</td>\n",
       "    </tr>\n",
       "    <tr>\n",
       "      <th>3</th>\n",
       "      <td>21</td>\n",
       "    </tr>\n",
       "    <tr>\n",
       "      <th>4</th>\n",
       "      <td>90</td>\n",
       "    </tr>\n",
       "  </tbody>\n",
       "</table>\n",
       "</div>"
      ],
      "text/plain": [
       "   score\n",
       "0    100\n",
       "1     22\n",
       "2     44\n",
       "3     21\n",
       "4     90"
      ]
     },
     "execution_count": 28,
     "metadata": {},
     "output_type": "execute_result"
    }
   ],
   "source": [
    "import pandas\n",
    "d={'Country':['India','USA','India','USA','India'],\n",
    "  'score':[100,22,44,21,90]}\n",
    "f={'Country':['India','USA','India','USA','India'],\n",
    "  'score':[100,22,44,22,80]}\n",
    "df1=pandas.DataFrame(d)\n",
    "df2=pandas.DataFrame(f)\n",
    "#df1.append(df2)\n",
    "pandas.concat([df1,df2],axis=1)\n",
    "x=df.drop('Country',axis=1)\n",
    "x"
   ]
  },
  {
   "cell_type": "code",
   "execution_count": null,
   "metadata": {
    "collapsed": true
   },
   "outputs": [],
   "source": []
  }
 ],
 "metadata": {
  "kernelspec": {
   "display_name": "Python 3",
   "language": "python",
   "name": "python3"
  },
  "language_info": {
   "codemirror_mode": {
    "name": "ipython",
    "version": 3
   },
   "file_extension": ".py",
   "mimetype": "text/x-python",
   "name": "python",
   "nbconvert_exporter": "python",
   "pygments_lexer": "ipython3",
   "version": "3.6.1"
  }
 },
 "nbformat": 4,
 "nbformat_minor": 2
}
