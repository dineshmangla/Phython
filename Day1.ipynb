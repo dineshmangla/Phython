{
 "cells": [
  {
   "cell_type": "code",
   "execution_count": null,
   "metadata": {},
   "outputs": [],
   "source": [
    "#this is my first program\n",
    "'''\n",
    "this is\n",
    "calculating sum\n",
    "'''\n",
    "\"\"\"\n",
    "phython is easy language\"\"\"\n",
    "__author__='dinesh mangla'\n",
    "a=10\n",
    "b=10\n",
    "print(\"sum of a anf b\",a+b)"
   ]
  },
  {
   "cell_type": "code",
   "execution_count": null,
   "metadata": {},
   "outputs": [],
   "source": [
    "#find the area of circle when radius is 5 cm\n",
    "#import math\n",
    "from math import pi\n",
    "r=5\n",
    "#area=math.pi*r**2\n",
    "area=pi*r**2\n",
    "print(\"area if circle is\", area)"
   ]
  },
  {
   "cell_type": "code",
   "execution_count": null,
   "metadata": {
    "scrolled": true
   },
   "outputs": [],
   "source": [
    "import math\n",
    "dir(math)"
   ]
  },
  {
   "cell_type": "code",
   "execution_count": 2,
   "metadata": {},
   "outputs": [
    {
     "name": "stdout",
     "output_type": "stream",
     "text": [
      "enter your nameDinesh\n",
      "please enter your age31\n",
      "hello  Dinesh good to know you are  adult\n"
     ]
    }
   ],
   "source": [
    "name=input(\"enter your name\")\n",
    "age=int (input(\"please enter your age\"))\n",
    "if age<18:\n",
    "    print(\"hello \" ,name,\"good to know you are not adult\")\n",
    "elif age>18 and age <45:\n",
    "     print(\"hello \" ,name,\"good to know you are  adult\")\n",
    "else:\n",
    "    print(\"hello \" ,name,\"good to know you are  old\")\n",
    "    \n",
    "    "
   ]
  },
  {
   "cell_type": "code",
   "execution_count": 7,
   "metadata": {},
   "outputs": [
    {
     "data": {
      "text/plain": [
       "6"
      ]
     },
     "execution_count": 7,
     "metadata": {},
     "output_type": "execute_result"
    }
   ],
   "source": [
    "list1=list()\n",
    "\n",
    "type(list1)\n",
    "\n",
    "list1=[10,20,'India','USA','China',10.22]\n",
    "\n",
    "len(list1)\n",
    "\n"
   ]
  },
  {
   "cell_type": "code",
   "execution_count": 12,
   "metadata": {},
   "outputs": [
    {
     "data": {
      "text/plain": [
       "True"
      ]
     },
     "execution_count": 12,
     "metadata": {},
     "output_type": "execute_result"
    }
   ],
   "source": [
    "list1=list()\n",
    "list1=[10,20,'India','USA','China',10.22]\n",
    "\n",
    "'India' in list1\n",
    "'USA' in list1\n",
    "'Afrika' in list1\n",
    "'Afrika' not in list1\n",
    "#list1[0]\n",
    "#list1[-1]"
   ]
  },
  {
   "cell_type": "code",
   "execution_count": 19,
   "metadata": {},
   "outputs": [
    {
     "name": "stdout",
     "output_type": "stream",
     "text": [
      "please enter cost of the product20\n",
      "please enter selling price of the product30\n",
      "proft 10\n"
     ]
    }
   ],
   "source": [
    "#list traversal\n",
    "#-----------------------\n",
    "# list1[m:n] - starts from mth index and go till n-1 index\n",
    "# list1[:n] -starts from oth index and go till n-1 index\n",
    "# list1[m:] -starts from mth index and go till end\n",
    "\n",
    "cost=int (input(\"please enter cost of the product\"))\n",
    "sellingPrice=int (input(\"please enter selling price of the product\"))\n",
    "\n",
    "#x=sellingPrice-cost\n",
    "\n",
    "if sellingPrice>cost:\n",
    "    print(\"proft\", sellingPrice-cost)\n",
    "elif sellingPrice<cost:\n",
    "     print(\"loss and loss is  \" ,sellingPrice-cost)\n",
    "else:\n",
    "     print(\"No profit no losss \")\n",
    "        "
   ]
  },
  {
   "cell_type": "code",
   "execution_count": 20,
   "metadata": {},
   "outputs": [
    {
     "name": "stdout",
     "output_type": "stream",
     "text": [
      "[0, 100]\n",
      "[0, 100, 'a', 'b', 'c']\n",
      "[0, 100, 'Python', 'a', 'b', 'c']\n",
      "[0, 100, 'Python', 'a', 'b', 'c', 99, 88, 77]\n"
     ]
    },
    {
     "ename": "TypeError",
     "evalue": "can only concatenate list (not \"tuple\") to list",
     "output_type": "error",
     "traceback": [
      "\u001b[1;31m---------------------------------------------------------------------------\u001b[0m",
      "\u001b[1;31mTypeError\u001b[0m                                 Traceback (most recent call last)",
      "\u001b[1;32m<ipython-input-20-dd15912b130a>\u001b[0m in \u001b[0;36m<module>\u001b[1;34m()\u001b[0m\n\u001b[0;32m      9\u001b[0m \u001b[0mprint\u001b[0m\u001b[1;33m(\u001b[0m\u001b[0mlist1\u001b[0m\u001b[1;33m)\u001b[0m\u001b[1;33m\u001b[0m\u001b[0m\n\u001b[0;32m     10\u001b[0m \u001b[0mtup\u001b[0m\u001b[1;33m=\u001b[0m\u001b[1;33m(\u001b[0m\u001b[1;36m11\u001b[0m\u001b[1;33m,\u001b[0m\u001b[1;36m22\u001b[0m\u001b[1;33m,\u001b[0m\u001b[1;36m33\u001b[0m\u001b[1;33m)\u001b[0m\u001b[1;33m\u001b[0m\u001b[0m\n\u001b[1;32m---> 11\u001b[1;33m \u001b[0mlist1\u001b[0m\u001b[1;33m=\u001b[0m\u001b[0mlist1\u001b[0m\u001b[1;33m+\u001b[0m\u001b[0mtup\u001b[0m\u001b[1;33m\u001b[0m\u001b[0m\n\u001b[0m\u001b[0;32m     12\u001b[0m \u001b[0mprint\u001b[0m\u001b[1;33m(\u001b[0m\u001b[0mlist1\u001b[0m\u001b[1;33m)\u001b[0m\u001b[1;33m\u001b[0m\u001b[0m\n",
      "\u001b[1;31mTypeError\u001b[0m: can only concatenate list (not \"tuple\") to list"
     ]
    }
   ],
   "source": [
    "list1=[0]\n",
    "list1.append(100)\n",
    "print(list1)\n",
    "list1.extend(['a','b','c'])\n",
    "print(list1)\n",
    "list1.insert(2,'Python')\n",
    "print(list1)\n",
    "list1=list1+[99,88,77]\n",
    "print(list1)\n",
    "tup=(11,22,33)\n",
    "list1=list1+tup\n",
    "print(list1)"
   ]
  },
  {
   "cell_type": "code",
   "execution_count": 22,
   "metadata": {},
   "outputs": [
    {
     "ename": "TypeError",
     "evalue": "can't multiply sequence by non-int of type 'str'",
     "output_type": "error",
     "traceback": [
      "\u001b[1;31m---------------------------------------------------------------------------\u001b[0m",
      "\u001b[1;31mTypeError\u001b[0m                                 Traceback (most recent call last)",
      "\u001b[1;32m<ipython-input-22-37ee3dd08ea4>\u001b[0m in \u001b[0;36m<module>\u001b[1;34m()\u001b[0m\n\u001b[1;32m----> 1\u001b[1;33m \u001b[0mprint\u001b[0m\u001b[1;33m(\u001b[0m\u001b[1;34m\"a\"\u001b[0m \u001b[1;33m*\u001b[0m \u001b[1;34m\"bc\"\u001b[0m\u001b[1;33m)\u001b[0m\u001b[1;33m\u001b[0m\u001b[0m\n\u001b[0m",
      "\u001b[1;31mTypeError\u001b[0m: can't multiply sequence by non-int of type 'str'"
     ]
    }
   ],
   "source": [
    "print(\"a\" * \"bc\")"
   ]
  },
  {
   "cell_type": "code",
   "execution_count": null,
   "metadata": {
    "collapsed": true
   },
   "outputs": [],
   "source": []
  }
 ],
 "metadata": {
  "kernelspec": {
   "display_name": "Python 3",
   "language": "python",
   "name": "python3"
  },
  "language_info": {
   "codemirror_mode": {
    "name": "ipython",
    "version": 3
   },
   "file_extension": ".py",
   "mimetype": "text/x-python",
   "name": "python",
   "nbconvert_exporter": "python",
   "pygments_lexer": "ipython3",
   "version": "3.6.1"
  }
 },
 "nbformat": 4,
 "nbformat_minor": 2
}
